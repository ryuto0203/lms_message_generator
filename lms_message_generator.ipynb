#メッセージテンプレ
# 【 さん LMSメッセージ】
# ~/~　レッスンレポート

# 本日は、「単元：~」を学ぶチャプター?の「？」を学習しました。
# (復習だったらここに一度学習済みのステージなので、復習を中心に学習していきました。)
# 理解度の説明
# 本人の設定した自学習内容は、「単元：~」をチャプター？の「？」を(復習してくるor~まで進めてくる)との事でした。
# よろしくお願いいたします。

from datetime import date
import sys

#日付の取得
today=date.today()
lesson_date=f"{today.month}/{today.day}"

#ステージ名の辞書
stage_name_dict={
  1:"ハカセの研究所",
  2:"おかたづけをしよう",
  3:"お花を植えよう",
  4:"おつかいロボット",
  5:"お菓子屋さんのお手伝い",
  6:"にらめっこロボット",
  7:"通信ロボット",
  8:"お花を植えよう2",
  9:"タイルデザイナー見習い",
  10:"お菓子屋さんの手伝い2",
  11:"裏山を探検",
  12:"発信ロボットカー",
  13:"恐怖の橋わたり",
  14:"カラフルな我が家"
}

#ステージ名に対応する単元名辞書
stage_unit_dict={
  1:"順次処理",
  2:"順次処理",
  3:"繰り返し",
  4:"繰り返し",
  5:"イベント処理",
  6:"イベント処理",
  7:"イベント処理",
  8:"繰り返し",
  9:"繰り返し",
  10:"分岐",
  11:"分岐",
  12:"分岐",
  13:"変数",
  14:"変数",
}

#本人の理解度
comprehension_dict={
  1:"内容をよく理解しており、とても集中して目標に向かって進められていました。",
  2:"できなかったところは繰り返しクリアし、着実に理解度を高められていました。",
  3:"ゆっくりながらも少しずつ本日決めた目標に向かって進められていました。",
}

#生徒名
student_name=input(print("生徒名(ひらがな)"))
#何週目か
lesson_week=int(input(print("今日は何週目？")))


#1or2or3週目の時の確認事項
if lesson_week==1 or lesson_week==2 or lesson_week==3:
  #やったチャプター番号
  chapter_num_done=int(input(print("今日やったチャプター番号(半角)")))

  #理解度
  comprehension=comprehension_dict[int(input(print(f"{student_name}さんの理解度 良い順に1から3")))]

  #チャプター番号から単元名・ステージ名の取得
  unit_name_done=stage_unit_dict[chapter_num_done]
  stage_name_done=f"「{chapter_num_done}.{stage_name_dict[chapter_num_done]}」"
  

#1or2or4週目の時の宿題(3週目の宿題はクリエイトの制作物)
if lesson_week==1 or lesson_week==2 or lesson_week==4:
  #宿題内容は復習or進めた？
  homework_type=int(input(print("今日の宿題内容は主に　復習→0,先に進める→1")))

  #宿題チャプター番号と宿題の単元名・ステージ名
  chapter_num_homework=int(input(print("今日の宿題チャプター番号")))
  unit_name_homework=stage_unit_dict[chapter_num_homework]
  stage_name_homework=f"「{chapter_num_homework}.{stage_name_dict[chapter_num_homework]}」"

  #宿題メッセージ
  if homework_type==0:
    homework_outline="復習してくるとの事です。\n次回のレッスンでこのチャプターの確認テスト(タイムアタック)を行うので、イエローコーダーを以上取れるように復習してきてください。"
  elif homework_type==1:
    homework_num_objective=int(input(print("どこまで進めてくるのか ex)7,10")))
    homework_outline=f"{homework_num_objective}まで進めてくるとのことです。\nできなかった所は次回のレッスンでコーチがサポート致します。"

#送信の関数
def message_generate(lesson_week=lesson_week,student_name=student_name,lesson_date=lesson_date,unit_name_done=unit_name_done,chapter_num_done=chapter_num_done,stage_name_done=stage_name_done,comprehension=comprehension,unit_name_homework=unit_name_homework,chapter_num_homework=chapter_num_homework,stage_name_homework=stage_name_homework,homework_outline=homework_outline):
  if lesson_week==1 or lesson_week==2:
    return print(
      f"【{student_name}さん LMSメッセージ】\n"
      f"{lesson_date} レッスンレポート\n\n"
      f"本日は、「単元：{unit_name_done}」を学ぶチャプター{chapter_num_done}の{stage_name_done}を学習しました。\n"
      f"{comprehension}\n"
      f"本人の設定した自学習内容は、「単元:{unit_name_homework}」を学ぶチャプター{chapter_num_homework}の{stage_name_homework}を{homework_outline}\n"
      "よろしくお願いいたします。"
    )  
  elif lesson_week==3:
    present_objective=input(print(f"{student_name}さんの発表タイトル"))
    return print(
      f"【{student_name}さん LMSメッセージ】\n"
      f"{lesson_date} レッスンレポート\n\n"
      f"本日は、「単元：{unit_name_done}」を学ぶチャプター{chapter_num_done}の{stage_name_done}を学習しました。\n"
      f"{comprehension}\n"
      f"次回のレッスンではクリエイトモードの発表がありますので、{student_name}さんの目標である「{present_objective}」の続きを自宅で作ってきていただけたらと思います。\n"
      f"よろしくお願いいたします。"
    )
  elif lesson_week==4:
    present_objective=input(print(f"{student_name}さんの発表タイトル"))
    return print(
      f"【{student_name}さん LMSメッセージ】\n"
      f"{lesson_date} レッスンレポート\n\n"
      f"本日はクリエイトモードの発表会がありました。発表は緊張していましたが、{student_name}さんの自信作である「{present_objective}」を他の生徒にきちんと発表できており、さらなる学習意欲の向上に繋がったかと思います。\n"
      f"次回のレッスンでは発表内容の振り返りをさせていただき、来月の発表へ向けてまた一緒に取り組んでいきます。\n"
      f"本人の設定した自学習内容は、「単元:{unit_name_homework}」を学ぶチャプター{chapter_num_homework}の{stage_name_homework}を{homework_outline}\n"
      f"よろしくお願いいたします。"
    )
message_generate()
